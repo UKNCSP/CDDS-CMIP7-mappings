{
 "cells": [
  {
   "cell_type": "code",
   "execution_count": 1,
   "id": "d139fcf6-a8f7-4a7e-8ad7-8bbc78f57e39",
   "metadata": {},
   "outputs": [],
   "source": [
    "import json\n",
    "from collections import defaultdict\n",
    "import os\n",
    "import sys\n"
   ]
  },
  {
   "cell_type": "code",
   "execution_count": 2,
   "id": "2103a58c-c279-43d1-8ab2-103b50f3a72a",
   "metadata": {},
   "outputs": [],
   "source": [
    "with open('01_output.json') as fh:\n",
    "    data_request_info = json.load(fh)"
   ]
  },
  {
   "cell_type": "code",
   "execution_count": 3,
   "id": "e039d042-ccbf-4b36-a33c-eaea304cce25",
   "metadata": {},
   "outputs": [
    {
     "data": {
      "text/plain": [
       "['huss',\n",
       " '3hr',\n",
       " 'm01s03i237[lbproc=0]',\n",
       " ['-', '-'],\n",
       " 'longitude latitude height2m time1',\n",
       " '1',\n",
       " '-',\n",
       " 'ok',\n",
       " ['huss', 'HadGEM3_3hr_mappings.cfg']]"
      ]
     },
     "execution_count": 3,
     "metadata": {},
     "output_type": "execute_result"
    }
   ],
   "source": [
    "with open('HadGEM3_mappings_table.json') as fh:\n",
    "    HadGEM3_mapping_table = json.load(fh)\n",
    "\n",
    "HadGEM3_mapping_table[1]"
   ]
  },
  {
   "cell_type": "code",
   "execution_count": 4,
   "id": "fc683b30-1ce9-496f-8117-4fe957ffd67f",
   "metadata": {},
   "outputs": [],
   "source": [
    "with open('UKESM1_mappings_table.json') as fh:\n",
    "    UKESM1_mapping_table = json.load(fh)"
   ]
  },
  {
   "cell_type": "code",
   "execution_count": 5,
   "id": "96f2ffa2-d076-4f5d-8659-e3cf7f5676ed",
   "metadata": {},
   "outputs": [
    {
     "data": {
      "text/plain": [
       "{'cell_measures': 'area: areacella',\n",
       " 'cell_methods': 'area: mean time: point',\n",
       " 'cmip6_differences': '\"frequency\" was \"3hrPt\"\\n\\n\"comment\" was \"surface pressure (not mean sea-level pressure), 2-D field to calculate the 3-D pressure field from hybrid coordinates\"\\n',\n",
       " 'cmip7_compound_name': 'atmos.3hr.ps_tpt-u-hxy-u',\n",
       " 'comment': 'sampled synoptically to diagnose atmospheric tides, this is better than mean sea level pressure.',\n",
       " 'dimensions': 'longitude latitude time1',\n",
       " 'frequency': '3hr',\n",
       " 'long_name': 'Surface Air Pressure',\n",
       " 'modeling_realm': 'atmos',\n",
       " 'positive': '',\n",
       " 'processing_note': 'CHANGE SINCE CMIP6 in CMIP7 Frequency - CMIP6:3hrPt CMIP7:3hr,\\n Changes since reverted/fixed. Variable now matches CMIP6 definition.',\n",
       " 'remap': '',\n",
       " 'standard_name': 'surface_air_pressure',\n",
       " 'table': '3hr',\n",
       " 'units': 'Pa',\n",
       " 'variable_status': 'CMIP6 CMOR variable'}"
      ]
     },
     "execution_count": 5,
     "metadata": {},
     "output_type": "execute_result"
    }
   ],
   "source": [
    "data_request_info['Compound Name']['3hr.ps']"
   ]
  },
  {
   "cell_type": "code",
   "execution_count": 6,
   "id": "dd0de62b-a25d-4a6d-8295-4d35674fec21",
   "metadata": {},
   "outputs": [],
   "source": [
    "def mappings_dict_from_table(table):\n",
    "    mappings = {}\n",
    "    for entry in table[1:]:\n",
    "        mip_tables = entry[1].split()\n",
    "        for mip_table in mip_tables:\n",
    "            compound_name = '{}.{}'.format(mip_table, entry[0])\n",
    "            comment, notes = entry[3]\n",
    "            if comment == \"-\":\n",
    "                comment = \"\"\n",
    "            if notes == \"-\":\n",
    "                notes = \"\"\n",
    "            mappings[compound_name] = dict(\n",
    "                expression = ' '.join(entry[2].split()),\n",
    "                comment = comment,\n",
    "                notes = notes,\n",
    "                dimensions = entry[4],\n",
    "                model_units = entry[5],\n",
    "                component = entry[6],\n",
    "                status = entry[7])\n",
    "    return mappings"
   ]
  },
  {
   "cell_type": "code",
   "execution_count": 7,
   "id": "79426907-89e7-4079-84d6-94dc398fe62e",
   "metadata": {},
   "outputs": [],
   "source": [
    "HadGEM3_mappings = mappings_dict_from_table(HadGEM3_mapping_table)\n",
    "UKESM1_mappings = mappings_dict_from_table(UKESM1_mapping_table)\n"
   ]
  },
  {
   "cell_type": "code",
   "execution_count": 8,
   "id": "4c74b605-3f53-4669-8f31-9d69dd9f7b77",
   "metadata": {},
   "outputs": [
    {
     "data": {
      "text/plain": [
       "{'expression': 'm01s03i236[lbproc=128]',\n",
       " 'comment': '',\n",
       " 'notes': '',\n",
       " 'dimensions': 'longitude latitude height2m time',\n",
       " 'model_units': 'K',\n",
       " 'component': 'boundary-layer',\n",
       " 'status': 'ok'}"
      ]
     },
     "execution_count": 8,
     "metadata": {},
     "output_type": "execute_result"
    }
   ],
   "source": [
    "HadGEM3_mappings['Amon.tas']"
   ]
  },
  {
   "cell_type": "code",
   "execution_count": 9,
   "id": "092c7a6d-1a3f-4dd0-88fb-8d66f721b38b",
   "metadata": {},
   "outputs": [],
   "source": [
    "def check_mapping_consistency(dr_entry, mapping):\n",
    "    issues = []\n",
    "\n",
    "    dr_dims = set(dr_entry['dimensions'].split())\n",
    "    mapping_dims = set(mapping['dimensions'].split())\n",
    "\n",
    "    if dr_dims != mapping_dims:\n",
    "        \n",
    "        issues.append('dimensions gained: \"{}\", dimensions lost: \"{}\"'.format(\n",
    "            list(dr_dims.difference(mapping_dims)),\n",
    "            list(mapping_dims.difference(dr_dims))\n",
    "        ))\n",
    "    \n",
    "    return issues\n",
    "        \n",
    "\n",
    "\n",
    "\n",
    "for compound_name, entry in data_request_info['Compound Name'].items():\n",
    "    lookup_key = compound_name\n",
    "    if entry['remap'] != \"\":\n",
    "        lookup_key = entry['remap']\n",
    "    mappings_info = {}\n",
    "    hg3consistency = hg3info = ukconsistency = ukinfo = None\n",
    "    if lookup_key in HadGEM3_mappings:\n",
    "        hg3consistency = check_mapping_consistency(entry, HadGEM3_mappings[lookup_key])\n",
    "        hg3info = HadGEM3_mappings[lookup_key]\n",
    "        \n",
    "    if lookup_key in UKESM1_mappings:\n",
    "        ukconsistency = check_mapping_consistency(entry, UKESM1_mappings[lookup_key])\n",
    "        ukinfo = UKESM1_mappings[lookup_key]\n",
    "\n",
    "    if hg3info is None and ukinfo is None:\n",
    "        entry['mapping_info'] = {}\n",
    "    elif hg3info is None:\n",
    "        entry['mapping_info'] = {\n",
    "            'model': 'UKESM1',\n",
    "            'expression': ukinfo['expression'],\n",
    "            'model_units': ukinfo['model_units'],\n",
    "            'cmip6_status': ukinfo['status'],\n",
    "            'comment': ukinfo['comment'],\n",
    "            'notes': ukinfo['notes'],\n",
    "            'consistency': ukconsistency,\n",
    "        }\n",
    "    elif ukinfo is None:\n",
    "        entry['mapping_info'] = {\n",
    "            'model': 'HadGEM3-GC31',\n",
    "            'expression': hg3info['expression'],\n",
    "            'model_units': hg3info['model_units'],\n",
    "            'cmip6_status': hg3info['status'],\n",
    "            'comment': hg3info['comment'],\n",
    "            'notes': hg3info['notes'],\n",
    "            'consistency': hg3consistency,\n",
    "        }\n",
    "    else:\n",
    "        if ukinfo['expression'] == hg3info['expression']:\n",
    "             entry['mapping_info'] = {\n",
    "                'model': 'BOTH',\n",
    "                'expression': ukinfo['expression'],\n",
    "                'model_units': ukinfo['model_units'],\n",
    "                'cmip6_status': ukinfo['status'],\n",
    "                'comment': ukinfo['comment'],\n",
    "                'notes': ukinfo['notes'],\n",
    "                'consistency': hg3consistency+ukconsistency,\n",
    "             } \n",
    "        else:\n",
    "            entry['mapping_info'] = {\n",
    "                'model': 'PER_MODEL',\n",
    "                'expression': 'UKESM1:\"{}\", HadGEM3:\"{}\"'.format(ukinfo['expression'], hg3info['expression']),\n",
    "                'model_units': ukinfo['model_units'],\n",
    "                'cmip6_status': ukinfo['status'],\n",
    "                'comment': ukinfo['comment'],\n",
    "                'notes': ukinfo['notes'],\n",
    "                'consistency': hg3consistency+ukconsistency,\n",
    "             } \n",
    "            \n",
    "        \n",
    "\n",
    "\n",
    "\n",
    "\n",
    "    "
   ]
  },
  {
   "cell_type": "code",
   "execution_count": 10,
   "id": "b0f07f14-e212-447d-8248-ad656e46e3df",
   "metadata": {
    "scrolled": true
   },
   "outputs": [
    {
     "data": {
      "text/plain": [
       "{'cell_measures': 'area: areacella',\n",
       " 'cell_methods': 'area: time: mean',\n",
       " 'cmip6_differences': '',\n",
       " 'cmip7_compound_name': 'atmos.mon.tas_tavg-h2m-hxy-u',\n",
       " 'comment': 'near-surface (usually, 2 meter) air temperature',\n",
       " 'dimensions': 'longitude latitude time height2m',\n",
       " 'frequency': 'mon',\n",
       " 'long_name': 'Near-Surface Air Temperature',\n",
       " 'modeling_realm': 'atmos',\n",
       " 'positive': '',\n",
       " 'processing_note': 'normally, the temperature should be reported at the 2 meter height',\n",
       " 'remap': '',\n",
       " 'standard_name': 'air_temperature',\n",
       " 'table': 'Amon',\n",
       " 'units': 'K',\n",
       " 'variable_status': 'CMIP6 CMOR variable',\n",
       " 'mapping_info': {'model': 'BOTH',\n",
       "  'expression': 'm01s03i236[lbproc=128]',\n",
       "  'model_units': 'K',\n",
       "  'cmip6_status': 'ok',\n",
       "  'comment': '',\n",
       "  'notes': '',\n",
       "  'consistency': []}}"
      ]
     },
     "execution_count": 10,
     "metadata": {},
     "output_type": "execute_result"
    }
   ],
   "source": [
    "data_request_info['Compound Name']['Amon.tas']"
   ]
  },
  {
   "cell_type": "code",
   "execution_count": 11,
   "id": "1c3a28b5-92c5-4f96-8041-e6921a41799e",
   "metadata": {},
   "outputs": [],
   "source": [
    "with open('03_output.json', 'w') as fh:\n",
    "    json.dump(data_request_info, fh, indent=2, sort_keys=True)"
   ]
  },
  {
   "cell_type": "code",
   "execution_count": null,
   "id": "1570288b-456b-4526-a539-3faa433858b0",
   "metadata": {},
   "outputs": [],
   "source": []
  },
  {
   "cell_type": "code",
   "execution_count": null,
   "id": "7fbae0e3-ea59-4489-b1a9-c40ff0398890",
   "metadata": {},
   "outputs": [],
   "source": []
  },
  {
   "cell_type": "code",
   "execution_count": null,
   "id": "79f71265-9c4d-48ca-8fac-8f160f7227bc",
   "metadata": {},
   "outputs": [],
   "source": []
  },
  {
   "cell_type": "code",
   "execution_count": null,
   "id": "046539e8-76c9-46d6-949e-eba7fd6c7696",
   "metadata": {},
   "outputs": [],
   "source": []
  }
 ],
 "metadata": {
  "kernelspec": {
   "display_name": "default-2025_04_01 Python (Conda)",
   "language": "python",
   "name": "conda-env-default-2025_04_01-py"
  },
  "language_info": {
   "codemirror_mode": {
    "name": "ipython",
    "version": 3
   },
   "file_extension": ".py",
   "mimetype": "text/x-python",
   "name": "python",
   "nbconvert_exporter": "python",
   "pygments_lexer": "ipython3",
   "version": "3.12.8"
  }
 },
 "nbformat": 4,
 "nbformat_minor": 5
}
