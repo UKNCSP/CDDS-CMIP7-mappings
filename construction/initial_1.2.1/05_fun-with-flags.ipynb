{
 "cells": [
  {
   "cell_type": "code",
   "execution_count": 1,
   "id": "6cead160-3886-48b9-9566-5ec2702887bd",
   "metadata": {},
   "outputs": [],
   "source": [
    "import json"
   ]
  },
  {
   "cell_type": "code",
   "execution_count": 2,
   "id": "de9da143-235c-4749-8ff3-f542e2e089a7",
   "metadata": {},
   "outputs": [],
   "source": [
    "with open('04_output.json') as fh:\n",
    "    data_request_info = json.load(fh)"
   ]
  },
  {
   "cell_type": "code",
   "execution_count": 3,
   "id": "4cbeb681-0fe4-4981-b878-79a3d675289b",
   "metadata": {},
   "outputs": [],
   "source": [
    "BCV = [\n",
    "    \"3hr.huss\",\n",
    "    \"3hr.pr\",\n",
    "    \"3hr.tas\",\n",
    "    \"3hrPt.uas\",\n",
    "    \"3hrPt.vas\",\n",
    "    \"6hrPlev.hurs\",\n",
    "    \"6hrPlevPt.ta\",\n",
    "    \"6hrPlevPt.ua\",\n",
    "    \"6hrPlevPt.va\",\n",
    "    \"Amon.cl\",\n",
    "    \"Amon.cli\",\n",
    "    \"Amon.clivi\",\n",
    "    \"Amon.clt\",\n",
    "    \"Amon.clw\",\n",
    "    \"Amon.clwvi\",\n",
    "    \"Amon.evspsbl\",\n",
    "    \"Amon.hfls\",\n",
    "    \"Amon.hfss\",\n",
    "    \"Amon.hur\",\n",
    "    \"Amon.hurs\",\n",
    "    \"Amon.hus\",\n",
    "    \"Amon.huss\",\n",
    "    \"Amon.pr\",\n",
    "    \"Amon.prc\",\n",
    "    \"Amon.prsn\",\n",
    "    \"Amon.prw\",\n",
    "    \"Amon.ps\",\n",
    "    \"Amon.psl\",\n",
    "    \"Amon.rlds\",\n",
    "    \"Amon.rldscs\",\n",
    "    \"Amon.rlus\",\n",
    "    \"Amon.rluscs\",\n",
    "    \"Amon.rlut\",\n",
    "    \"Amon.rlutcs\",\n",
    "    \"Amon.rsds\",\n",
    "    \"Amon.rsdscs\",\n",
    "    \"Amon.rsdt\",\n",
    "    \"Amon.rsus\",\n",
    "    \"Amon.rsuscs\",\n",
    "    \"Amon.rsut\",\n",
    "    \"Amon.rsutcs\",\n",
    "    \"Amon.sfcWind\",\n",
    "    \"Amon.ta\",\n",
    "    \"Amon.tas\",\n",
    "    \"Amon.tasmax\",\n",
    "    \"Amon.tasmin\",\n",
    "    \"Amon.tauu\",\n",
    "    \"Amon.tauv\",\n",
    "    \"Amon.ts\",\n",
    "    \"Amon.ua\",\n",
    "    \"Amon.uas\",\n",
    "    \"Amon.va\",\n",
    "    \"Amon.vas\",\n",
    "    \"Amon.wap\",\n",
    "    \"Amon.zg\",\n",
    "    \"CFday.ps\",\n",
    "    \"day.clt\",\n",
    "    \"day.hur\",\n",
    "    \"day.hurs\",\n",
    "    \"day.hus\",\n",
    "    \"day.huss\",\n",
    "    \"day.pr\",\n",
    "    \"day.psl\",\n",
    "    \"day.rsds\",\n",
    "    \"day.sfcWind\",\n",
    "    \"day.ta\",\n",
    "    \"day.tas\",\n",
    "    \"day.tasmax\",\n",
    "    \"day.tasmin\",\n",
    "    \"day.ua\",\n",
    "    \"day.uas\",\n",
    "    \"day.va\",\n",
    "    \"day.vas\",\n",
    "    \"day.wap\",\n",
    "    \"E1hr.pr\",\n",
    "    \"Eday.hus\",\n",
    "    \"Eday.ta\",\n",
    "    \"Eday.ua\",\n",
    "    \"Eday.va\",\n",
    "    \"Eday.zg\",\n",
    "    \"Efx.slthick\",\n",
    "    \"fx.areacella\",\n",
    "    \"fx.mrsofc\",\n",
    "    \"fx.orog\",\n",
    "    \"fx.rootd\",\n",
    "    \"fx.sftgif\",\n",
    "    \"fx.sftlf\",\n",
    "    \"LImon.snc\",\n",
    "    \"LImon.snw\",\n",
    "    \"Lmon.evspsblsoi\",\n",
    "    \"Lmon.evspsblveg\",\n",
    "    \"Lmon.lai\",\n",
    "    \"Lmon.mrfso\",\n",
    "    \"Lmon.mrro\",\n",
    "    \"Lmon.mrros\",\n",
    "    \"Lmon.mrso\",\n",
    "    \"Lmon.mrsos\",\n",
    "    \"Oday.sos\",\n",
    "    \"Oday.tos\",\n",
    "    \"Oday.zos\",\n",
    "    \"Ofx.areacello\",\n",
    "    \"Ofx.basin\",\n",
    "    \"Ofx.deptho\",\n",
    "    \"Ofx.hfgeou\",\n",
    "    \"Ofx.masscello\",\n",
    "    \"Ofx.sftof\",\n",
    "    \"Ofx.thkcello\",\n",
    "    \"Omon.bigthetao\",\n",
    "    \"Omon.hfds\",\n",
    "    \"Omon.masscello\",\n",
    "    \"Omon.mlotst\",\n",
    "    \"Omon.so\",\n",
    "    \"Omon.sos\",\n",
    "    \"Omon.tauuo\",\n",
    "    \"Omon.tauvo\",\n",
    "    \"Omon.thetao\",\n",
    "    \"Omon.thkcello\",\n",
    "    \"Omon.tos\",\n",
    "    \"Omon.umo\",\n",
    "    \"Omon.uo\",\n",
    "    \"Omon.vmo\",\n",
    "    \"Omon.vo\",\n",
    "    \"Omon.wmo\",\n",
    "    \"Omon.wo\",\n",
    "    \"Omon.zos\",\n",
    "    \"Omon.zostoga\",\n",
    "    \"SIday.siconc\",\n",
    "    \"SImon.siconc\",\n",
    "    \"SImon.simass\",\n",
    "    \"SImon.sisnthick\",\n",
    "    \"SImon.sitemptop\",\n",
    "    \"SImon.sithick\",\n",
    "    \"SImon.sitimefrac\",\n",
    "    \"SImon.siu\",\n",
    "    \"SImon.siv\",\n",
    "]"
   ]
  },
  {
   "cell_type": "code",
   "execution_count": 4,
   "id": "42a4981c-2cf6-4638-b273-c4b7edf525a4",
   "metadata": {},
   "outputs": [],
   "source": [
    "for key, entry in data_request_info['Compound Name'].items():\n",
    "    entry['flags'] = [entry[i] for i in ['modeling_realm', 'frequency']] \n",
    "    if key in BCV:\n",
    "        entry['flags'].append(\"BaselineClimateVariable\")\n",
    "    if entry['variable_status'] == 'CMIP6 CMOR variable':\n",
    "        entry['flags'].append(\"CMIP6\")\n",
    "    \n",
    "        "
   ]
  },
  {
   "cell_type": "code",
   "execution_count": 5,
   "id": "120cc400-1f3e-43e5-b282-72cb4965bc5b",
   "metadata": {},
   "outputs": [
    {
     "data": {
      "text/plain": [
       "set()"
      ]
     },
     "execution_count": 5,
     "metadata": {},
     "output_type": "execute_result"
    }
   ],
   "source": [
    "set(BCV).symmetric_difference(set([key  for key,entry in data_request_info['Compound Name'].items() if \"BaselineClimateVariable\" in entry['flags']]))"
   ]
  },
  {
   "cell_type": "code",
   "execution_count": 6,
   "id": "8b64b567-fac3-42da-bdde-5ca91948f4e5",
   "metadata": {},
   "outputs": [
    {
     "data": {
      "text/plain": [
       "{'cell_measures': 'area: areacella',\n",
       " 'cell_methods': 'area: time: mean',\n",
       " 'cmip6_differences': '',\n",
       " 'cmip7_compound_name': 'atmos.mon.tas_tavg-h2m-hxy-u',\n",
       " 'comment': 'near-surface (usually, 2 meter) air temperature',\n",
       " 'dimensions': 'longitude latitude time height2m',\n",
       " 'frequency': 'mon',\n",
       " 'long_name': 'Near-Surface Air Temperature',\n",
       " 'mapping_info': {'STASH': [{'domain': 'DIAG',\n",
       "    'stash': 'm01s03i236',\n",
       "    'stash_code': 3236,\n",
       "    'time': 'TMONMN',\n",
       "    'usage': 'UP5'}],\n",
       "  'cmip6_status': 'ok',\n",
       "  'comment': '',\n",
       "  'consistency': [],\n",
       "  'expression': 'm01s03i236[lbproc=128]',\n",
       "  'model': 'BOTH',\n",
       "  'model_units': 'K',\n",
       "  'notes': ''},\n",
       " 'modeling_realm': 'atmos',\n",
       " 'positive': '',\n",
       " 'processing_note': 'normally, the temperature should be reported at the 2 meter height',\n",
       " 'remap': '',\n",
       " 'standard_name': 'air_temperature',\n",
       " 'table': 'Amon',\n",
       " 'units': 'K',\n",
       " 'variable_status': 'CMIP6 CMOR variable',\n",
       " 'flags': ['atmos', 'mon', 'BaselineClimateVariable', 'CMIP6']}"
      ]
     },
     "execution_count": 6,
     "metadata": {},
     "output_type": "execute_result"
    }
   ],
   "source": [
    "data_request_info['Compound Name']['Amon.tas']"
   ]
  },
  {
   "cell_type": "code",
   "execution_count": 7,
   "id": "a6185599-39b8-49a7-ad78-9407b375580c",
   "metadata": {},
   "outputs": [
    {
     "data": {
      "text/plain": [
       "135"
      ]
     },
     "execution_count": 7,
     "metadata": {},
     "output_type": "execute_result"
    }
   ],
   "source": [
    "len(BCV)"
   ]
  },
  {
   "cell_type": "code",
   "execution_count": 8,
   "id": "c66d7b23-9417-4fc5-96e1-273b7c34d7ae",
   "metadata": {},
   "outputs": [],
   "source": [
    "for key, entry in data_request_info['Compound Name'].items():\n",
    "    realms = entry['modeling_realm'].split()\n",
    "    if len(realms)>1:\n",
    "        print(key)"
   ]
  },
  {
   "cell_type": "code",
   "execution_count": 9,
   "id": "0c9c812c-7ddd-45db-bb45-c65a3a4e87f2",
   "metadata": {},
   "outputs": [],
   "source": [
    "with open('05_output.json', 'w') as fh:\n",
    "    json.dump(data_request_info, fh, indent=2, sort_keys=True)"
   ]
  },
  {
   "cell_type": "code",
   "execution_count": null,
   "id": "823e22e0-c77c-4a3b-a742-c56efd82ada9",
   "metadata": {},
   "outputs": [],
   "source": []
  }
 ],
 "metadata": {
  "kernelspec": {
   "display_name": "default-2025_04_01 Python (Conda)",
   "language": "python",
   "name": "conda-env-default-2025_04_01-py"
  },
  "language_info": {
   "codemirror_mode": {
    "name": "ipython",
    "version": 3
   },
   "file_extension": ".py",
   "mimetype": "text/x-python",
   "name": "python",
   "nbconvert_exporter": "python",
   "pygments_lexer": "ipython3",
   "version": "3.12.8"
  }
 },
 "nbformat": 4,
 "nbformat_minor": 5
}
