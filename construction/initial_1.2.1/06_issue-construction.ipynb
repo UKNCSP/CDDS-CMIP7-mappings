{
 "cells": [
  {
   "cell_type": "code",
   "execution_count": 1,
   "id": "f4556fbb-7def-4d94-9bdf-fa43771454ac",
   "metadata": {},
   "outputs": [],
   "source": [
    "import json\n",
    "from collections import defaultdict\n",
    "import os\n",
    "import sys\n",
    "from textwrap import dedent\n",
    "import re\n"
   ]
  },
  {
   "cell_type": "code",
   "execution_count": 2,
   "id": "bb803f29-5b68-47b0-a821-2c5596e88313",
   "metadata": {},
   "outputs": [],
   "source": [
    "with open('05_output.json') as fh:\n",
    "    data_request_info = json.load(fh)"
   ]
  },
  {
   "cell_type": "code",
   "execution_count": 3,
   "id": "2aca9853-a574-402d-b2c1-f846b696514b",
   "metadata": {},
   "outputs": [
    {
     "data": {
      "text/plain": [
       "{'cell_measures': 'area: areacella',\n",
       " 'cell_methods': 'area: time: mean',\n",
       " 'cmip6_differences': '\"cell_methods\" was \"area: mean where land over all_area_types time: mean\"\\n',\n",
       " 'cmip7_compound_name': 'land.mon.treeFracBdlDcd_tavg-u-hxy-u',\n",
       " 'comment': 'This is the percentage of the entire grid cell that is covered by broadleaf deciduous trees.',\n",
       " 'dimensions': 'longitude latitude time typetreebd',\n",
       " 'flags': ['land', 'mon', 'CMIP6'],\n",
       " 'frequency': 'mon',\n",
       " 'long_name': 'Broadleaf Deciduous Tree Area Percentage',\n",
       " 'mapping_info': {'STASH': [{'domain': 'DIAG',\n",
       "    'stash': 'm01s03i395',\n",
       "    'stash_code': 3395,\n",
       "    'time': 'TMONMN',\n",
       "    'usage': 'UP5'},\n",
       "   {'domain': 'DTILE',\n",
       "    'stash': 'm01s19i013',\n",
       "    'stash_code': 19013,\n",
       "    'time': 'TMONMN',\n",
       "    'usage': 'UP5'}],\n",
       "  'cmip6_status': 'ok',\n",
       "  'comment': '',\n",
       "  'consistency': [],\n",
       "  'expression': 'UKESM1:\"land_class_area(m01s19i013[lbtim_ia=240,lbproc=128], m01s03i395[lbproc=128], land_class=\\'broadLeafTreeDeciduous\\')\", HadGEM3:\"land_class_area(m01s03i317[lbproc=128], m01s03i395[lbproc=128], land_class=\\'broadLeafTreeDeciduous\\')\"',\n",
       "  'model': 'PER_MODEL',\n",
       "  'model_units': '%',\n",
       "  'notes': ''},\n",
       " 'modeling_realm': 'land',\n",
       " 'positive': '',\n",
       " 'processing_note': 'CHANGE SINCE CMIP6 in Dimensions - CMIP6:longitude latitude time typetreebd CMIP7:longitude latitude time  typetreebd,\\n \\nCHANGE SINCE CMIP6 in Cell Methods - CMIP6:area: mean where land over all_area_types time: mean CMIP7:area: time: mean,',\n",
       " 'remap': '',\n",
       " 'standard_name': 'area_fraction',\n",
       " 'table': 'Emon',\n",
       " 'units': '%',\n",
       " 'variable_status': 'CMIP6 CMOR variable'}"
      ]
     },
     "execution_count": 3,
     "metadata": {},
     "output_type": "execute_result"
    }
   ],
   "source": [
    "data_request_info['Compound Name']['Emon.treeFracBdlDcd']"
   ]
  },
  {
   "cell_type": "code",
   "execution_count": 4,
   "id": "3b1564f9-b203-4461-903f-56c0c7d793d6",
   "metadata": {},
   "outputs": [],
   "source": [
    "DR_INFO = dedent(\"\"\"\n",
    "## Data Request information\n",
    "   \n",
    "| Field | Value | Notes |\n",
    "| --- | --- | --- |\n",
    "| Key | {key} | |\n",
    "| Branded variable name | {branded_variable_name} | |\n",
    "| CF standard name | {standard_name} | |\n",
    "| Long name | {long_name} | |\n",
    "| Comment | {comment} | |\n",
    "| Dimensions | {dimensions} | |\n",
    "| Frequency | {frequency} | |\n",
    "| Units | {units} | |\n",
    "| Positive | {positive} | |\n",
    "| Processing notes | {processing_note} | |\n",
    "| Cell methods | {cell_methods} | |\n",
    "| Cell measures | {cell_measures} | |\n",
    "| Modeling realm | {modeling_realm} | |\n",
    "| Variable status | {variable_status} | |\n",
    "| CMIP6 Differences | {cmip6_differences} | |\n",
    "\n",
    "\"\"\")\n",
    "\n",
    "MAPPING = dedent(\"\"\"\n",
    "## Mapping information \n",
    "\n",
    "| Field | Value | Notes |\n",
    "| --- | --- | --- |\n",
    "\"\"\")\n",
    "\n",
    "STASH = dedent(\"\"\"\n",
    "## STASH entries (relevant for UM only)\n",
    "\n",
    "| Model | STASH | Section, item number | Time Profile | Domain Profile | Usage Profile |\n",
    "| --- | --- | --- | --- | --- | --- |\n",
    "{stash_table}\n",
    "\"\"\")"
   ]
  },
  {
   "cell_type": "code",
   "execution_count": 5,
   "id": "f4d0ba5c-6cb5-4227-9f23-10d480a770f4",
   "metadata": {},
   "outputs": [
    {
     "name": "stdout",
     "output_type": "stream",
     "text": [
      "PER_MODEL\n",
      "UKESM1:\"land_class_area(m01s19i013[lbtim_ia=240,lbproc=128], m01s03i395[lbproc=128], land_class='needleLeafTreeEvergreen')\", HadGEM3:\"land_class_area(m01s03i317[lbproc=128], m01s03i395[lbproc=128], land_class='needleLeafTreeEvergreen')\"\n",
      "<re.Match object; span=(0, 236), match='UKESM1:\"land_class_area(m01s19i013[lbtim_ia=240,l>\n"
     ]
    }
   ],
   "source": [
    "commands = []\n",
    "label_set = set()\n",
    "for key, entry in data_request_info['Compound Name'].items():\n",
    "\n",
    "    entry['branded_variable_name'] = entry['cmip7_compound_name'].split('.')[-1]\n",
    "    labels = [entry['modeling_realm'], entry['frequency']]\n",
    "    if 'CMIP6 CMOR' in entry['variable_status']:\n",
    "        labels.append('CMIP6')\n",
    "        \n",
    "    title = \"Variable {cmip7_compound_name} ({key})\".format(key=key,**entry)\n",
    "    entry['processing_note'] = entry['processing_note'].replace(\"\\n\", \"; \")\n",
    "    entry['cmip6_differences'] = entry['cmip6_differences'].replace(\"\\n\", \"; \")\n",
    "    body = DR_INFO.format(key=key, **entry)\n",
    "\n",
    "    expression = entry['mapping_info'].get('expression', '')\n",
    "    model = entry['mapping_info'].get('model', '')\n",
    "    model_units = entry['mapping_info'].get('model_units', '')\n",
    "\n",
    "    if model == 'PER_MODEL' or model == 'BOTH':\n",
    "        labels += ['UKESM1', 'HadGEM3-GC31']\n",
    "    elif model == '':\n",
    "        pass\n",
    "    else:\n",
    "        labels.append(model)\n",
    "\n",
    "    if 'BaselineClimateVariable' in entry['flags']:\n",
    "        labels.append('BCV')\n",
    "    \n",
    "        \n",
    "    for l in labels:\n",
    "        label_set.add(l)\n",
    "    \n",
    "    #body += MAPPING.format(expression=expression, model=model, units=model_units)\n",
    "\n",
    "    mapping = MAPPING\n",
    "    if key == \"Emon.treeFracNdlEvg\":\n",
    "        print(model)\n",
    "    if model == 'BOTH' or model == 'UKESM1':\n",
    "        if key == \"Emon.treeFracNdlEvg\":\n",
    "            print(1)\n",
    "        mapping += \"| Expression UKESM1 | `{}` | |\\n\".format(expression)\n",
    "    if model == 'BOTH' or model == 'HadGEM3-GC31':\n",
    "        mapping += \"| Expression HadGEM3-GC31 | `{}` | |\\n\".format(expression)\n",
    "    if model == 'PER_MODEL':\n",
    "        match = re.search('UKESM1:\"(.*)\", HadGEM3:\"(.*)\"', expression)\n",
    "        if key == \"Emon.treeFracNdlEvg\":\n",
    "            print(expression)\n",
    "            print(match)\n",
    "        \n",
    "        mapping += \"| Expression UKESM1 | `{}` | |\\n\".format(match.group(1))\n",
    "        mapping += \"| Expression HadGEM3-GC31 | `{}` | |\\n\".format(match.group(1))\n",
    "\n",
    "        \n",
    "    mapping += \"| Model units | {} | |\\n\".format(model_units)\n",
    "    mapping += \"\\n\"\n",
    "        \n",
    "    body += mapping   \n",
    "        \n",
    "    stash_table = ''\n",
    "\n",
    "    if 'STASH' in entry['mapping_info']:\n",
    "        if model in ['UKESM1', 'BOTH', 'PER_MODEL']:\n",
    "            stash_table += '\\n'.join([\n",
    "                \"| UKESM1 | {stash} | {stash_code:,} | {time} | {domain} | {usage} |\".format(**i) for i in entry['mapping_info']['STASH']])\n",
    "            stash_table += \"\\n\"\n",
    "        if model in ['HadGEM3', 'BOTH', 'PER_MODEL']:\n",
    "            stash_table += '\\n'.join([\n",
    "                \"| HadGEM3-GC31 | {stash} | {stash_code:,} | {time} | {domain} | {usage} |\".format(**i) for i in entry['mapping_info']['STASH']]) \n",
    "            stash_table += \"\\n\"\n",
    "    if stash_table == \"\":\n",
    "            stash_table = \"| | | | | |\"\n",
    "    body += STASH.format(stash_table=stash_table,**entry['mapping_info'])\n",
    "\n",
    "    bodyfile = 'issues/{}'.format(key) \n",
    "    with open(bodyfile, 'w') as fh:\n",
    "        fh.write(dedent(body))\n",
    "    \n",
    "    commands.append('gh issue create --title \"{title}\" --body-file {bodyfile} --label {labels}'.format(\n",
    "        title=title, bodyfile=bodyfile, labels=\" --label \".join(labels)))"
   ]
  },
  {
   "cell_type": "code",
   "execution_count": 6,
   "id": "a42d6eb5-fe55-49b7-80a0-e7276b224bb3",
   "metadata": {},
   "outputs": [
    {
     "name": "stdout",
     "output_type": "stream",
     "text": [
      "gh label create 1hr -d \"\"\n",
      "gh label create BCV -d \"\"\n",
      "gh label create fx -d \"\"\n",
      "gh label create atmos -d \"\"\n",
      "gh label create 3hr -d \"\"\n",
      "gh label create aerosol -d \"\"\n",
      "gh label create mon -d \"\"\n",
      "gh label create yr -d \"\"\n",
      "gh label create subhr -d \"\"\n",
      "gh label create land -d \"\"\n",
      "gh label create ocnBgchem -d \"\"\n",
      "gh label create atmosChem -d \"\"\n",
      "gh label create seaIce -d \"\"\n",
      "gh label create UKESM1 -d \"\"\n",
      "gh label create landIce -d \"\"\n",
      "gh label create dec -d \"\"\n",
      "gh label create day -d \"\"\n",
      "gh label create CMIP6 -d \"\"\n",
      "gh label create ocean -d \"\"\n",
      "gh label create 6hr -d \"\"\n",
      "gh label create HadGEM3-GC31 -d \"\"\n"
     ]
    }
   ],
   "source": [
    "for i in label_set:\n",
    "    print('gh label create {} -d \"\"'.format(i))"
   ]
  },
  {
   "cell_type": "code",
   "execution_count": 7,
   "id": "be5fdf84-7c2a-4a12-bcd9-61b3992c4916",
   "metadata": {},
   "outputs": [],
   "source": [
    "with open('commands.txt', 'w') as fh:\n",
    "    for c in commands:\n",
    "        fh.write(c + \"\\n\")"
   ]
  },
  {
   "cell_type": "code",
   "execution_count": 8,
   "id": "16e4ab44-7441-45a7-a5d5-25bc99ec5a82",
   "metadata": {},
   "outputs": [
    {
     "name": "stdout",
     "output_type": "stream",
     "text": [
      "gh issue create --title \"Variable atmos.mon.cl_tavg-l-hxy-u (Amon.cl)\" --body-file issues/Amon.cl --label atmos --label mon --label CMIP6 --label UKESM1 --label HadGEM3-GC31 --label BCV\n",
      "gh issue create --title \"Variable atmos.mon.cli_tavg-l-hxy-u (Amon.cli)\" --body-file issues/Amon.cli --label atmos --label mon --label CMIP6 --label UKESM1 --label HadGEM3-GC31 --label BCV\n",
      "gh issue create --title \"Variable atmos.mon.clivi_tavg-u-hxy-u (Amon.clivi)\" --body-file issues/Amon.clivi --label atmos --label mon --label CMIP6 --label UKESM1 --label HadGEM3-GC31 --label BCV\n",
      "gh issue create --title \"Variable atmos.mon.clt_tavg-u-hxy-u (Amon.clt)\" --body-file issues/Amon.clt --label atmos --label mon --label CMIP6 --label UKESM1 --label HadGEM3-GC31 --label BCV\n",
      "gh issue create --title \"Variable atmos.mon.clw_tavg-l-hxy-u (Amon.clw)\" --body-file issues/Amon.clw --label atmos --label mon --label CMIP6 --label UKESM1 --label HadGEM3-GC31 --label BCV\n",
      "gh issue create --title \"Variable atmos.mon.clwvi_tavg-u-hxy-u (Amon.clwvi)\" --body-file issues/Amon.clwvi --label atmos --label mon --label CMIP6 --label UKESM1 --label HadGEM3-GC31 --label BCV\n",
      "gh issue create --title \"Variable atmos.mon.evspsbl_tavg-u-hxy-u (Amon.evspsbl)\" --body-file issues/Amon.evspsbl --label atmos --label mon --label CMIP6 --label UKESM1 --label HadGEM3-GC31 --label BCV\n",
      "gh issue create --title \"Variable atmos.mon.hfls_tavg-u-hxy-u (Amon.hfls)\" --body-file issues/Amon.hfls --label atmos --label mon --label CMIP6 --label UKESM1 --label HadGEM3-GC31 --label BCV\n",
      "gh issue create --title \"Variable atmos.mon.hfss_tavg-u-hxy-u (Amon.hfss)\" --body-file issues/Amon.hfss --label atmos --label mon --label CMIP6 --label UKESM1 --label HadGEM3-GC31 --label BCV\n",
      "gh issue create --title \"Variable atmos.mon.hur_tavg-p19-hxy-air (Amon.hur)\" --body-file issues/Amon.hur --label atmos --label mon --label CMIP6 --label UKESM1 --label HadGEM3-GC31 --label BCV\n",
      "gh issue create --title \"Variable atmos.mon.hurs_tavg-h2m-hxy-u (Amon.hurs)\" --body-file issues/Amon.hurs --label atmos --label mon --label CMIP6 --label UKESM1 --label HadGEM3-GC31 --label BCV\n",
      "gh issue create --title \"Variable atmos.mon.hus_tavg-p19-hxy-u (Amon.hus)\" --body-file issues/Amon.hus --label atmos --label mon --label CMIP6 --label UKESM1 --label HadGEM3-GC31 --label BCV\n",
      "gh issue create --title \"Variable atmos.mon.huss_tavg-h2m-hxy-u (Amon.huss)\" --body-file issues/Amon.huss --label atmos --label mon --label CMIP6 --label UKESM1 --label HadGEM3-GC31 --label BCV\n",
      "gh issue create --title \"Variable atmos.mon.pr_tavg-u-hxy-u (Amon.pr)\" --body-file issues/Amon.pr --label atmos --label mon --label CMIP6 --label UKESM1 --label HadGEM3-GC31 --label BCV\n",
      "gh issue create --title \"Variable atmos.mon.prc_tavg-u-hxy-u (Amon.prc)\" --body-file issues/Amon.prc --label atmos --label mon --label CMIP6 --label UKESM1 --label HadGEM3-GC31 --label BCV\n",
      "gh issue create --title \"Variable atmos.mon.prsn_tavg-u-hxy-u (Amon.prsn)\" --body-file issues/Amon.prsn --label atmos --label mon --label CMIP6 --label UKESM1 --label HadGEM3-GC31 --label BCV\n",
      "gh issue create --title \"Variable atmos.mon.prw_tavg-u-hxy-u (Amon.prw)\" --body-file issues/Amon.prw --label atmos --label mon --label CMIP6 --label UKESM1 --label HadGEM3-GC31 --label BCV\n",
      "gh issue create --title \"Variable atmos.mon.ps_tavg-u-hxy-u (Amon.ps)\" --body-file issues/Amon.ps --label atmos --label mon --label CMIP6 --label UKESM1 --label HadGEM3-GC31 --label BCV\n",
      "gh issue create --title \"Variable atmos.mon.psl_tavg-u-hxy-u (Amon.psl)\" --body-file issues/Amon.psl --label atmos --label mon --label CMIP6 --label UKESM1 --label HadGEM3-GC31 --label BCV\n",
      "gh issue create --title \"Variable atmos.mon.rlds_tavg-u-hxy-u (Amon.rlds)\" --body-file issues/Amon.rlds --label atmos --label mon --label CMIP6 --label UKESM1 --label HadGEM3-GC31 --label BCV\n",
      "gh issue create --title \"Variable atmos.mon.rldscs_tavg-u-hxy-u (Amon.rldscs)\" --body-file issues/Amon.rldscs --label atmos --label mon --label CMIP6 --label UKESM1 --label HadGEM3-GC31 --label BCV\n",
      "gh issue create --title \"Variable atmos.mon.rlus_tavg-u-hxy-u (Amon.rlus)\" --body-file issues/Amon.rlus --label atmos --label mon --label CMIP6 --label UKESM1 --label HadGEM3-GC31 --label BCV\n",
      "gh issue create --title \"Variable atmos.mon.rluscs_tavg-u-hxy-u (Amon.rluscs)\" --body-file issues/Amon.rluscs --label atmos --label mon --label BCV\n",
      "gh issue create --title \"Variable atmos.mon.rlut_tavg-u-hxy-u (Amon.rlut)\" --body-file issues/Amon.rlut --label atmos --label mon --label CMIP6 --label UKESM1 --label HadGEM3-GC31 --label BCV\n",
      "gh issue create --title \"Variable atmos.mon.rlutcs_tavg-u-hxy-u (Amon.rlutcs)\" --body-file issues/Amon.rlutcs --label atmos --label mon --label CMIP6 --label UKESM1 --label HadGEM3-GC31 --label BCV\n",
      "gh issue create --title \"Variable atmos.mon.rsds_tavg-u-hxy-u (Amon.rsds)\" --body-file issues/Amon.rsds --label atmos --label mon --label CMIP6 --label UKESM1 --label HadGEM3-GC31 --label BCV\n",
      "gh issue create --title \"Variable atmos.mon.rsdscs_tavg-u-hxy-u (Amon.rsdscs)\" --body-file issues/Amon.rsdscs --label atmos --label mon --label CMIP6 --label UKESM1 --label HadGEM3-GC31 --label BCV\n",
      "gh issue create --title \"Variable atmos.mon.rsdt_tavg-u-hxy-u (Amon.rsdt)\" --body-file issues/Amon.rsdt --label atmos --label mon --label CMIP6 --label UKESM1 --label HadGEM3-GC31 --label BCV\n",
      "gh issue create --title \"Variable atmos.mon.rsus_tavg-u-hxy-u (Amon.rsus)\" --body-file issues/Amon.rsus --label atmos --label mon --label CMIP6 --label UKESM1 --label HadGEM3-GC31 --label BCV\n",
      "gh issue create --title \"Variable atmos.mon.rsuscs_tavg-u-hxy-u (Amon.rsuscs)\" --body-file issues/Amon.rsuscs --label atmos --label mon --label CMIP6 --label UKESM1 --label HadGEM3-GC31 --label BCV\n",
      "gh issue create --title \"Variable atmos.mon.rsut_tavg-u-hxy-u (Amon.rsut)\" --body-file issues/Amon.rsut --label atmos --label mon --label CMIP6 --label UKESM1 --label HadGEM3-GC31 --label BCV\n",
      "gh issue create --title \"Variable atmos.mon.rsutcs_tavg-u-hxy-u (Amon.rsutcs)\" --body-file issues/Amon.rsutcs --label atmos --label mon --label CMIP6 --label UKESM1 --label HadGEM3-GC31 --label BCV\n",
      "gh issue create --title \"Variable atmos.mon.sfcWind_tavg-h10m-hxy-u (Amon.sfcWind)\" --body-file issues/Amon.sfcWind --label atmos --label mon --label CMIP6 --label UKESM1 --label HadGEM3-GC31 --label BCV\n",
      "gh issue create --title \"Variable atmos.mon.ta_tavg-p19-hxy-air (Amon.ta)\" --body-file issues/Amon.ta --label atmos --label mon --label CMIP6 --label UKESM1 --label HadGEM3-GC31 --label BCV\n",
      "gh issue create --title \"Variable atmos.mon.tas_tavg-h2m-hxy-u (Amon.tas)\" --body-file issues/Amon.tas --label atmos --label mon --label CMIP6 --label UKESM1 --label HadGEM3-GC31 --label BCV\n",
      "gh issue create --title \"Variable atmos.mon.tasmax_tstat-h2m-hxy-u (Amon.tasmax)\" --body-file issues/Amon.tasmax --label atmos --label mon --label CMIP6 --label UKESM1 --label HadGEM3-GC31 --label BCV\n",
      "gh issue create --title \"Variable atmos.mon.tasmin_tstat-h2m-hxy-u (Amon.tasmin)\" --body-file issues/Amon.tasmin --label atmos --label mon --label CMIP6 --label UKESM1 --label HadGEM3-GC31 --label BCV\n",
      "gh issue create --title \"Variable atmos.mon.tauu_tavg-u-hxy-u (Amon.tauu)\" --body-file issues/Amon.tauu --label atmos --label mon --label CMIP6 --label UKESM1 --label HadGEM3-GC31 --label BCV\n",
      "gh issue create --title \"Variable atmos.mon.tauv_tavg-u-hxy-u (Amon.tauv)\" --body-file issues/Amon.tauv --label atmos --label mon --label CMIP6 --label UKESM1 --label HadGEM3-GC31 --label BCV\n",
      "gh issue create --title \"Variable atmos.mon.ts_tavg-u-hxy-u (Amon.ts)\" --body-file issues/Amon.ts --label atmos --label mon --label CMIP6 --label UKESM1 --label HadGEM3-GC31 --label BCV\n",
      "gh issue create --title \"Variable atmos.mon.ua_tavg-p19-hxy-air (Amon.ua)\" --body-file issues/Amon.ua --label atmos --label mon --label CMIP6 --label UKESM1 --label HadGEM3-GC31 --label BCV\n",
      "gh issue create --title \"Variable atmos.mon.uas_tavg-h10m-hxy-u (Amon.uas)\" --body-file issues/Amon.uas --label atmos --label mon --label CMIP6 --label UKESM1 --label HadGEM3-GC31 --label BCV\n",
      "gh issue create --title \"Variable atmos.mon.va_tavg-p19-hxy-air (Amon.va)\" --body-file issues/Amon.va --label atmos --label mon --label CMIP6 --label UKESM1 --label HadGEM3-GC31 --label BCV\n",
      "gh issue create --title \"Variable atmos.mon.vas_tavg-h10m-hxy-u (Amon.vas)\" --body-file issues/Amon.vas --label atmos --label mon --label CMIP6 --label UKESM1 --label HadGEM3-GC31 --label BCV\n",
      "gh issue create --title \"Variable atmos.mon.wap_tavg-p19-hxy-air (Amon.wap)\" --body-file issues/Amon.wap --label atmos --label mon --label CMIP6 --label UKESM1 --label HadGEM3-GC31 --label BCV\n",
      "gh issue create --title \"Variable atmos.mon.zg_tavg-p19-hxy-air (Amon.zg)\" --body-file issues/Amon.zg --label atmos --label mon --label CMIP6 --label UKESM1 --label HadGEM3-GC31 --label BCV\n"
     ]
    }
   ],
   "source": [
    "!grep Amon commands.txt | grep BCV"
   ]
  },
  {
   "cell_type": "code",
   "execution_count": null,
   "id": "80124239-8233-471e-a3de-970ac22f5549",
   "metadata": {},
   "outputs": [],
   "source": []
  },
  {
   "cell_type": "raw",
   "id": "f61909bf-9dad-4c02-8fbc-5d42b1a45fec",
   "metadata": {},
   "source": []
  }
 ],
 "metadata": {
  "kernelspec": {
   "display_name": "default-2025_04_01 Python (Conda)",
   "language": "python",
   "name": "conda-env-default-2025_04_01-py"
  },
  "language_info": {
   "codemirror_mode": {
    "name": "ipython",
    "version": 3
   },
   "file_extension": ".py",
   "mimetype": "text/x-python",
   "name": "python",
   "nbconvert_exporter": "python",
   "pygments_lexer": "ipython3",
   "version": "3.12.8"
  }
 },
 "nbformat": 4,
 "nbformat_minor": 5
}
