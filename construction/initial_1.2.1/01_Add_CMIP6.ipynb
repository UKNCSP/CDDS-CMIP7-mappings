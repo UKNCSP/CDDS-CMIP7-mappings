{
 "cells": [
  {
   "cell_type": "code",
   "execution_count": 1,
   "id": "994a62b5-8180-42b4-9761-da301b5df00d",
   "metadata": {},
   "outputs": [],
   "source": [
    "import json\n",
    "import glob\n",
    "import os\n",
    "from collections import defaultdict"
   ]
  },
  {
   "cell_type": "code",
   "execution_count": 2,
   "id": "c5bbc401-ec3e-41eb-b94e-f071c524531d",
   "metadata": {},
   "outputs": [],
   "source": [
    "DATA_REQUEST_JSON = \"data_request_1.2.1.json\"\n",
    "CMIP6_TABLE_DIR = os.path.expanduser(\"~cdds/etc/mip_tables/CMIP6/01.00.31/\")"
   ]
  },
  {
   "cell_type": "code",
   "execution_count": 3,
   "id": "bcefabc1-e14b-4ab1-a882-b6b05394c42e",
   "metadata": {},
   "outputs": [],
   "source": [
    "with open(DATA_REQUEST_JSON) as fh:\n",
    "    data_request_info = json.load(fh)"
   ]
  },
  {
   "cell_type": "code",
   "execution_count": 4,
   "id": "1433196b-50e1-47ef-947d-441d550d3cce",
   "metadata": {},
   "outputs": [
    {
     "data": {
      "text/plain": [
       "{'frequency': 'mon',\n",
       " 'modeling_realm': 'atmos',\n",
       " 'standard_name': 'air_pressure_at_convective_cloud_top',\n",
       " 'units': 'Pa',\n",
       " 'cell_methods': 'area: time: mean where convective_cloud (weighted by total convective cloud area)',\n",
       " 'cell_measures': 'area: areacella',\n",
       " 'long_name': 'Air Pressure at Convective Cloud Top',\n",
       " 'comment': 'Where convective cloud is present in the grid cell, the instantaneous cloud top altitude should be that of the top of the highest level containing convective cloud. Missing data should be reported in the absence of convective cloud. The time mean should be calculated from these quantities averaging over occasions when convective cloud is present only, and should contain missing data for occasions when no convective cloud is present during the meaning period.',\n",
       " 'dimensions': 'longitude latitude time',\n",
       " 'out_name': 'cct',\n",
       " 'type': 'real',\n",
       " 'positive': '',\n",
       " 'spatial_shape': 'XY-na',\n",
       " 'temporal_shape': 'time-intv',\n",
       " 'table': 'Amon',\n",
       " 'cmip7_compound_name': 'atmos.mon.cct_tavg-u-hxy-ccl',\n",
       " 'processing_note': 'CHANGE SINCE CMIP6 in Cell Methods - CMIP6:area: time: mean CMIP7:area: time: mean where convective_cloud (weighted by total convective cloud area),\\nCHANGE SINCE CMIP6 in Cell Methods - CMIP6:area: time: mean CMIP7:area: time: mean where convective_cloud (weighted by total convective cloud area),\\nCHANGE SINCE CMIP6 in Cell Methods - CMIP6:area: time: mean CMIP7:area: time: mean where convective_cloud (weighted by total convective cloud area),\\nCHANGE SINCE CMIP6 in Cell Methods - CMIP6:area: time: mean CMIP7:area: time: mean where convective_cloud (weighted by total convective cloud area),\\nCHANGE SINCE CMIP6 in Cell Methods - CMIP6:area: time: mean CMIP7:area: time: mean where convective_cloud (weighted by total convective cloud area), area: time: mean where s (weighted by total convective cloud area) copy,\\nCHANGE SINCE CMIP6 in Cell Methods - CMIP6:area: time: mean CMIP7:area: time: mean where convective_cloud (weighted by total convective cloud area), area: time: mean where stratiform_cloud (weighted by total convective cloud area),',\n",
       " 'uid': 'baa96a0e-e5dd-11e5-8482-ac72891c3257',\n",
       " 'variable_status': 'CMIP6 CMOR variable'}"
      ]
     },
     "execution_count": 4,
     "metadata": {},
     "output_type": "execute_result"
    }
   ],
   "source": [
    "data_request_info['Compound Name']['Amon.cct']"
   ]
  },
  {
   "cell_type": "code",
   "execution_count": 5,
   "id": "638e8de6-216b-4dc7-8655-72a5127d620f",
   "metadata": {},
   "outputs": [],
   "source": [
    "CMIP6_TABLES = []\n",
    "for i,filename in enumerate(glob.glob(CMIP6_TABLE_DIR + \"/*.json\")):\n",
    "    if not any([j in filename for j in ['grids', 'input_example', 'formula_terms', 'CV', 'coordinate']]):\n",
    "        CMIP6_TABLES.append(filename)"
   ]
  },
  {
   "cell_type": "code",
   "execution_count": 6,
   "id": "a06fde73-a1c8-4a68-9d12-946da7f5f852",
   "metadata": {},
   "outputs": [],
   "source": [
    "def load_cmip6_mip_tables():\n",
    "    cmip6_variable_definitions = defaultdict(dict)\n",
    "    \n",
    "    for filename in CMIP6_TABLES:\n",
    "        with open(filename) as fh:\n",
    "            data = json.load(fh)\n",
    "        table_id = data['Header']['table_id'].split()[-1]\n",
    "        for variable, description in data['variable_entry'].items():\n",
    "            cmip6_variable_definitions[table_id][variable] = description\n",
    "    return cmip6_variable_definitions\n",
    "\n",
    "cmip6_variable_definitions = load_cmip6_mip_tables()"
   ]
  },
  {
   "cell_type": "code",
   "execution_count": 7,
   "id": "51d3b8bc-d0f9-4832-808a-c9718bfcdaba",
   "metadata": {},
   "outputs": [],
   "source": [
    "# These variables have been renamed\n",
    "# CMIP7 \"compound name\" : \"CMIP6 equivalent\"\n",
    "KNOWN_REMAPPINGS = {\n",
    "    \"3hrPt.uas\": \"3hr.uas\",\n",
    "    \"3hrPt.vas\": \"3hr.vas\",\n",
    "    \"6hrPlevPt.zg\": \"6hrPlevPt.zg500\",\n",
    "    \"AERmon.od443aer\": \"AERmon.od440aer\",\n",
    "    \"AERmon.od865aer\": \"AERmon.od870.aer\",\n",
    "    \"Amon.co2massCLim\": \"Amon.co2massClim\",\n",
    "    \"fx.lat\": \"CFsubhr.latitude\",\n",
    "    \"fx.lon\": \"CFsubhr.longitude\",\n",
    "    \"Omon.hfxint\": \"Omon.hfx\",\n",
    "    \"Omon.hfyint\": \"Omon.hfy\",\n",
    "    \"SImon.sidmassgrowthsi\": \"SImon.sidmasssi\",\n",
    "    \"SImon.sidmassmeltlat\": \"SImon.sidmasslat\",\n",
    "    \"SImon.sifllattop\": \"SImon.sifllatstop\",\n",
    "    \"SImon.siflsensbot\": \"SImon.siflsensupbot\",\n",
    "    \"SImon.simpthick\": \"SImon.simpmass\",\n",
    "    \"SImon.sishearvel\": \"SImon.sishevel\",\n",
    "    \"SImon.sisndmassdyn\": \"SImon.sndmasdyn\",\n",
    "    \"SImon.sisndmassmelt\": \"SImon.sndmassmelt\",\n",
    "    \"SImon.sisndmasssi\": \"SImon.sndmasssi\",\n",
    "    \"SImon.sisndmasssnf\": \"SImon.sndmasssnf\",\n",
    "    \"SImon.sisndmasssubl\": \"SImon.sndmasssubl\",\n",
    "    \"SImon.sisndmasswind\": \"SImon.sndmasswind\",\n",
    "    \"SImon.sisnmassacrossline\": \"SImon.snmassacrossline\",\n",
    "    \"SImon.sistressave\": \"SImon.sistresave\",\n",
    "    \"SImon.sistressmax\": \"SImon.sistremax\",\n",
    "}\n",
    "ELEMENTS_TO_REMOVE = ['spatial_shape', 'temporal_shape', 'out_name', 'type', 'uid']"
   ]
  },
  {
   "cell_type": "code",
   "execution_count": 8,
   "id": "61e8b248-7459-45b9-9fab-f4afa8f7608b",
   "metadata": {},
   "outputs": [
    {
     "name": "stdout",
     "output_type": "stream",
     "text": [
      "[]\n"
     ]
    }
   ],
   "source": [
    "for compound_name, entry in data_request_info['Compound Name'].items():\n",
    "    for i in ELEMENTS_TO_REMOVE:\n",
    "        try:\n",
    "            del entry[i]\n",
    "        except KeyError:\n",
    "            pass\n",
    "    if compound_name in KNOWN_REMAPPINGS:\n",
    "        cmip6_counterpart = KNOWN_REMAPPINGS[compound_name].split(\".\")\n",
    "        entry['remap'] = KNOWN_REMAPPINGS[compound_name]\n",
    "    else:\n",
    "        cmip6_counterpart = compound_name.split(\".\")\n",
    "        entry['remap'] = ''\n",
    "    \n",
    "    try:\n",
    "        cmip6_entry = cmip6_variable_definitions[cmip6_counterpart[0]][cmip6_counterpart[1]]\n",
    "    except KeyError:\n",
    "        entry['cmip6_differences'] = 'Not present'\n",
    "        continue\n",
    "    \n",
    "    differences = []\n",
    "    for k in cmip6_entry:\n",
    "        \n",
    "        if k in entry:\n",
    "            if not cmip6_entry[k] == entry[k]:\n",
    "                if compound_name == 'Amon.cct':\n",
    "                    print(differences)\n",
    "                differences.append('\"{}\" was \"{}\"\\n'.format(k,cmip6_entry[k]))\n",
    "    entry['cmip6_differences'] = \"\\n\".join(set(differences))\n",
    "    "
   ]
  },
  {
   "cell_type": "code",
   "execution_count": 9,
   "id": "8d2800d3-7df9-4247-916c-5ce17f2fc6c7",
   "metadata": {},
   "outputs": [
    {
     "data": {
      "text/plain": [
       "{'frequency': 'mon',\n",
       " 'modeling_realm': 'atmos',\n",
       " 'standard_name': 'air_pressure_at_convective_cloud_top',\n",
       " 'units': 'Pa',\n",
       " 'cell_methods': 'area: time: mean where convective_cloud (weighted by total convective cloud area)',\n",
       " 'cell_measures': 'area: areacella',\n",
       " 'long_name': 'Air Pressure at Convective Cloud Top',\n",
       " 'comment': 'Where convective cloud is present in the grid cell, the instantaneous cloud top altitude should be that of the top of the highest level containing convective cloud. Missing data should be reported in the absence of convective cloud. The time mean should be calculated from these quantities averaging over occasions when convective cloud is present only, and should contain missing data for occasions when no convective cloud is present during the meaning period.',\n",
       " 'dimensions': 'longitude latitude time',\n",
       " 'positive': '',\n",
       " 'table': 'Amon',\n",
       " 'cmip7_compound_name': 'atmos.mon.cct_tavg-u-hxy-ccl',\n",
       " 'processing_note': 'CHANGE SINCE CMIP6 in Cell Methods - CMIP6:area: time: mean CMIP7:area: time: mean where convective_cloud (weighted by total convective cloud area),\\nCHANGE SINCE CMIP6 in Cell Methods - CMIP6:area: time: mean CMIP7:area: time: mean where convective_cloud (weighted by total convective cloud area),\\nCHANGE SINCE CMIP6 in Cell Methods - CMIP6:area: time: mean CMIP7:area: time: mean where convective_cloud (weighted by total convective cloud area),\\nCHANGE SINCE CMIP6 in Cell Methods - CMIP6:area: time: mean CMIP7:area: time: mean where convective_cloud (weighted by total convective cloud area),\\nCHANGE SINCE CMIP6 in Cell Methods - CMIP6:area: time: mean CMIP7:area: time: mean where convective_cloud (weighted by total convective cloud area), area: time: mean where s (weighted by total convective cloud area) copy,\\nCHANGE SINCE CMIP6 in Cell Methods - CMIP6:area: time: mean CMIP7:area: time: mean where convective_cloud (weighted by total convective cloud area), area: time: mean where stratiform_cloud (weighted by total convective cloud area),',\n",
       " 'variable_status': 'CMIP6 CMOR variable',\n",
       " 'remap': '',\n",
       " 'cmip6_differences': '\"cell_methods\" was \"area: time: mean\"\\n'}"
      ]
     },
     "execution_count": 9,
     "metadata": {},
     "output_type": "execute_result"
    }
   ],
   "source": [
    "data_request_info['Compound Name']['Amon.cct']"
   ]
  },
  {
   "cell_type": "code",
   "execution_count": 10,
   "id": "65cb73ff-41c9-489c-83e8-f5cb08c39a43",
   "metadata": {},
   "outputs": [],
   "source": [
    "with open('01_output.json', 'w') as fh:\n",
    "    json.dump(data_request_info, fh, indent=2, sort_keys=True)"
   ]
  },
  {
   "cell_type": "code",
   "execution_count": null,
   "id": "3f965b46-1fcc-4688-ad78-7b6f3a3ed513",
   "metadata": {},
   "outputs": [],
   "source": []
  },
  {
   "cell_type": "code",
   "execution_count": null,
   "id": "2fe379a3-d658-4eee-a7f0-8f9c550820d7",
   "metadata": {},
   "outputs": [],
   "source": []
  }
 ],
 "metadata": {
  "kernelspec": {
   "display_name": "default-2025_04_01 Python (Conda)",
   "language": "python",
   "name": "conda-env-default-2025_04_01-py"
  },
  "language_info": {
   "codemirror_mode": {
    "name": "ipython",
    "version": 3
   },
   "file_extension": ".py",
   "mimetype": "text/x-python",
   "name": "python",
   "nbconvert_exporter": "python",
   "pygments_lexer": "ipython3",
   "version": "3.12.8"
  }
 },
 "nbformat": 4,
 "nbformat_minor": 5
}
