{
 "cells": [
  {
   "cell_type": "code",
   "execution_count": 1,
   "id": "d139fcf6-a8f7-4a7e-8ad7-8bbc78f57e39",
   "metadata": {},
   "outputs": [],
   "source": [
    "import json\n",
    "from collections import defaultdict\n",
    "import os\n",
    "import sys\n"
   ]
  },
  {
   "cell_type": "code",
   "execution_count": 2,
   "id": "2103a58c-c279-43d1-8ab2-103b50f3a72a",
   "metadata": {},
   "outputs": [],
   "source": [
    "with open('01_output.json') as fh:\n",
    "    data_request_info = json.load(fh)"
   ]
  },
  {
   "cell_type": "code",
   "execution_count": 3,
   "id": "e039d042-ccbf-4b36-a33c-eaea304cce25",
   "metadata": {},
   "outputs": [],
   "source": [
    "with open('HadGEM3_mappings_table.json') as fh:\n",
    "    HadGEM3_mapping_table = json.load(fh)"
   ]
  },
  {
   "cell_type": "code",
   "execution_count": 4,
   "id": "fc683b30-1ce9-496f-8117-4fe957ffd67f",
   "metadata": {},
   "outputs": [],
   "source": [
    "with open('UKESM1_mappings_table.json') as fh:\n",
    "    UKESM1_mapping_table = json.load(fh)"
   ]
  },
  {
   "cell_type": "code",
   "execution_count": 5,
   "id": "96f2ffa2-d076-4f5d-8659-e3cf7f5676ed",
   "metadata": {},
   "outputs": [
    {
     "data": {
      "text/plain": [
       "{'cell_measures': 'area: areacella',\n",
       " 'cell_methods': 'area: mean time: point',\n",
       " 'cmip6_differences': '\"frequency\" was \"3hrPt\"\\n\\n\"comment\" was \"surface pressure (not mean sea-level pressure), 2-D field to calculate the 3-D pressure field from hybrid coordinates\"\\n',\n",
       " 'cmip7_compound_name': 'atmos.3hr.ps_tpt-u-hxy-u',\n",
       " 'comment': 'sampled synoptically to diagnose atmospheric tides, this is better than mean sea level pressure.',\n",
       " 'dimensions': 'longitude latitude time1',\n",
       " 'frequency': '3hr',\n",
       " 'long_name': 'Surface Air Pressure',\n",
       " 'modeling_realm': 'atmos',\n",
       " 'positive': '',\n",
       " 'processing_note': 'CHANGE SINCE CMIP6 in CMIP7 Frequency - CMIP6:3hrPt CMIP7:3hr,\\n Changes since reverted/fixed. Variable now matches CMIP6 definition.',\n",
       " 'remap': '',\n",
       " 'standard_name': 'surface_air_pressure',\n",
       " 'table': '3hr',\n",
       " 'units': 'Pa',\n",
       " 'variable_status': 'CMIP6 CMOR variable'}"
      ]
     },
     "execution_count": 5,
     "metadata": {},
     "output_type": "execute_result"
    }
   ],
   "source": [
    "data_request_info['Compound Name']['3hr.ps']"
   ]
  },
  {
   "cell_type": "code",
   "execution_count": 6,
   "id": "dd0de62b-a25d-4a6d-8295-4d35674fec21",
   "metadata": {},
   "outputs": [],
   "source": [
    "def mappings_dict_from_table(table):\n",
    "    mappings = {}\n",
    "    for entry in table[1:]:\n",
    "        mip_tables = entry[1].split()\n",
    "        for mip_table in mip_tables:\n",
    "            compound_name = '{}.{}'.format(mip_table, entry[0])\n",
    "            mappings[compound_name] = dict(\n",
    "                expression = ' '.join(entry[2].split()),\n",
    "                notes = \" \".join(';'.join(entry[3]).split()),\n",
    "                dimensions = entry[4],\n",
    "                model_units = entry[5],\n",
    "                component = entry[6],\n",
    "                status = entry[7])\n",
    "    return mappings"
   ]
  },
  {
   "cell_type": "code",
   "execution_count": 7,
   "id": "79426907-89e7-4079-84d6-94dc398fe62e",
   "metadata": {},
   "outputs": [],
   "source": [
    "HadGEM3_mappings = mappings_dict_from_table(HadGEM3_mapping_table)\n",
    "UKESM1_mappings = mappings_dict_from_table(UKESM1_mapping_table)\n"
   ]
  },
  {
   "cell_type": "code",
   "execution_count": 8,
   "id": "f7dde81b-fd91-4b01-9e5a-daac750b7d9d",
   "metadata": {},
   "outputs": [],
   "source": [
    "with open('old_HadGEM3_mappings.json') as fh:\n",
    "    old_HadGEM3_mappings = mappings_dict_from_table(json.load(fh))\n",
    "with open('old_UKESM_mappings.json') as fh:\n",
    "    old_UKESM1_mappings = mappings_dict_from_table(json.load(fh))"
   ]
  },
  {
   "cell_type": "code",
   "execution_count": 9,
   "id": "809e1cf7-be1e-4938-92a6-7d8281cca0c8",
   "metadata": {
    "scrolled": true
   },
   "outputs": [],
   "source": [
    "\n",
    "def check_mappings_against_old(old_mappings, mappings):\n",
    "\n",
    "    for i in old_mappings:\n",
    "        old_info = old_mappings[i]\n",
    "        table = i.split(\".\")[0]\n",
    "        if i not in data_request_info['Compound Name']:\n",
    "            continue\n",
    "        \n",
    "        if i not in mappings:\n",
    "            print(\"missing\", i)\n",
    "            continue\n",
    "        new_info = mappings[i]\n",
    "        for k in old_info:\n",
    "            if old_info[k] != new_info[k]:\n",
    "                if k == 'model_units' and old_info[k] == \"-\":\n",
    "                    continue\n",
    "                if k == 'dimensions':\n",
    "                    continue\n",
    "                print(i, k,)\n",
    "                print(\"\\t\", old_info[k])\n",
    "                print(\"\\t\", new_info[k])\n",
    "            "
   ]
  },
  {
   "cell_type": "code",
   "execution_count": 10,
   "id": "269f0c2a-103b-4554-8df4-dc20627e0da8",
   "metadata": {},
   "outputs": [
    {
     "name": "stdout",
     "output_type": "stream",
     "text": [
      "E1hrClimMon.rlut status\n",
      "\t -\n",
      "\t ok\n",
      "E1hrClimMon.rlutcs status\n",
      "\t -\n",
      "\t ok\n",
      "E1hrClimMon.rsdt status\n",
      "\t -\n",
      "\t ok\n",
      "E1hrClimMon.rsut status\n",
      "\t -\n",
      "\t ok\n",
      "E1hrClimMon.rsutcs status\n",
      "\t -\n",
      "\t ok\n",
      "Eday.evspsblpot notes\n",
      "\t -;Merge with common mappings when approved\n",
      "\t -;-\n",
      "Eday.evspsblpot component\n",
      "\t -\n",
      "\t land\n",
      "Eday.evspsblpot status\n",
      "\t embargoed\n",
      "\t ok\n",
      "AERday.ua10 expression\n",
      "\t m01s30i201[blev=P10, lbproc=128] / m01s30i301[blev=P10, lbproc=128]\n",
      "\t m01s30i201[blev=P10, lbproc=128]\n",
      "AERday.ua10 notes\n",
      "\t -;-\n",
      "\t A division by the Heaviside function, as used in UKESM1-0-LL has been removed from the mapping used to calculate this variable. As the 10 hPa level is well above the surface everywhere this should have no impact on the scientific content of this variable;-\n",
      "missing SImon.siflsaltbot\n"
     ]
    }
   ],
   "source": [
    "check_mappings_against_old(old_HadGEM3_mappings, HadGEM3_mappings)"
   ]
  },
  {
   "cell_type": "code",
   "execution_count": 11,
   "id": "61c2e8de-21b7-43cf-9d06-b3089d8af0b9",
   "metadata": {},
   "outputs": [
    {
     "name": "stdout",
     "output_type": "stream",
     "text": [
      "E1hrClimMon.rlut status\n",
      "\t -\n",
      "\t ok\n",
      "E1hrClimMon.rlutcs status\n",
      "\t -\n",
      "\t ok\n",
      "E1hrClimMon.rsdt status\n",
      "\t -\n",
      "\t ok\n",
      "E1hrClimMon.rsut status\n",
      "\t -\n",
      "\t ok\n",
      "E1hrClimMon.rsutcs status\n",
      "\t -\n",
      "\t ok\n",
      "Eday.evspsblpot notes\n",
      "\t -;Merge with common mappings when approved\n",
      "\t -;-\n",
      "Eday.evspsblpot component\n",
      "\t -\n",
      "\t land\n",
      "Eday.evspsblpot status\n",
      "\t embargoed\n",
      "\t ok\n"
     ]
    }
   ],
   "source": [
    "check_mappings_against_old(old_UKESM1_mappings, UKESM1_mappings)"
   ]
  },
  {
   "cell_type": "code",
   "execution_count": null,
   "id": "0fbd13b1-ecee-4488-9645-e54ace829e74",
   "metadata": {},
   "outputs": [],
   "source": []
  },
  {
   "cell_type": "code",
   "execution_count": 12,
   "id": "092c7a6d-1a3f-4dd0-88fb-8d66f721b38b",
   "metadata": {},
   "outputs": [],
   "source": [
    "def check_mapping_consistency(dr_entry, mapping):\n",
    "    issues = []\n",
    "    fields_to_check = ['dimensions']    \n",
    "    for f in fields_to_check:\n",
    "        if mapping[f] != dr_entry[f]:\n",
    "            issues.append(f)\n",
    "    return issues\n",
    "        \n",
    "\n",
    "\n",
    "\n",
    "for compound_name, entry in data_request_info['Compound Name'].items():\n",
    "    lookup_key = compound_name\n",
    "    if entry['remap'] != \"\":\n",
    "        lookup_key = entry['remap']\n",
    "    entry['mappings'] = {}\n",
    "    if lookup_key in HadGEM3_mappings:\n",
    "        consistency = check_mapping_consistency(entry, HadGEM3_mappings[lookup_key])\n",
    "        entry['mappings']['HadGEM3-GC31'] = HadGEM3_mappings[lookup_key]\n",
    "        entry['mappings']['HadGEM3-GC31']['issues'] = consistency\n",
    "    if lookup_key in UKESM1_mappings:\n",
    "        consistency = check_mapping_consistency(entry, UKESM1_mappings[lookup_key])\n",
    "        entry['mappings']['UKESM1'] = UKESM1_mappings[lookup_key]\n",
    "        entry['mappings']['UKESM1']['issues'] = consistency\n",
    "\n",
    "\n",
    "\n",
    "\n",
    "    "
   ]
  },
  {
   "cell_type": "code",
   "execution_count": 13,
   "id": "b0f07f14-e212-447d-8248-ad656e46e3df",
   "metadata": {
    "scrolled": true
   },
   "outputs": [
    {
     "data": {
      "text/plain": [
       "{'cell_measures': 'area: areacella',\n",
       " 'cell_methods': 'area: time: mean',\n",
       " 'cmip6_differences': '\"cell_methods\" was \"area: mean where land over all_area_types time: mean\"\\n',\n",
       " 'cmip7_compound_name': 'land.mon.baresoilFrac_tavg-u-hxy-u',\n",
       " 'comment': 'Percentage of entire grid cell  that is covered by bare soil.',\n",
       " 'dimensions': 'longitude latitude time typebare',\n",
       " 'frequency': 'mon',\n",
       " 'long_name': 'Bare Soil Percentage Area Coverage',\n",
       " 'modeling_realm': 'land',\n",
       " 'positive': '',\n",
       " 'processing_note': 'Note that if this variable is independent of time, it should be stored only for a single time (user choice).\\nCHANGE SINCE CMIP6 in Dimensions - CMIP6:longitude latitude time typebare CMIP7:longitude latitude time  typebare,\\n \\nCHANGE SINCE CMIP6 in Cell Methods - CMIP6:area: mean where land over all_area_types time: mean CMIP7:area: time: mean,',\n",
       " 'remap': '',\n",
       " 'standard_name': 'area_fraction',\n",
       " 'table': 'Lmon',\n",
       " 'units': '%',\n",
       " 'variable_status': 'CMIP6 CMOR variable',\n",
       " 'mappings': {'HadGEM3-GC31': {'expression': \"land_class_area(m01s03i317[lbproc=128], m01s03i395[lbproc=128], land_class='bareSoil')\",\n",
       "   'notes': '-;-',\n",
       "   'dimensions': 'longitude latitude typebare time',\n",
       "   'model_units': '%',\n",
       "   'component': 'land',\n",
       "   'status': 'ok',\n",
       "   'issues': ['dimensions']},\n",
       "  'UKESM1': {'expression': \"land_class_area(m01s19i013[lbtim_ia=240,lbproc=128], m01s03i395[lbproc=128], land_class='bareSoil')\",\n",
       "   'notes': '-;-',\n",
       "   'dimensions': 'longitude latitude typebare time',\n",
       "   'model_units': '%',\n",
       "   'component': 'land',\n",
       "   'status': 'ok',\n",
       "   'issues': ['dimensions']}}}"
      ]
     },
     "execution_count": 13,
     "metadata": {},
     "output_type": "execute_result"
    }
   ],
   "source": [
    "data_request_info['Compound Name']['Lmon.baresoilFrac']"
   ]
  },
  {
   "cell_type": "code",
   "execution_count": 14,
   "id": "f190a343-2bd2-4970-b1ba-bbb78ba53ec9",
   "metadata": {
    "scrolled": true
   },
   "outputs": [
    {
     "name": "stdout",
     "output_type": "stream",
     "text": [
      "6hrLev.ec550aer dimensions \n",
      "\t longitude latitude alevel lambda550nm time1 \n",
      "\t longitude latitude alevel lambda500nm time1\n",
      "AERday.ua10 expression \n",
      "\t m01s30i201[blev=P10, lbproc=128] \n",
      "\t m01s30i201[blev=P10, lbproc=128] / m01s30i301[blev=P10, lbproc=128]\n",
      "Emon.treeFracBdlDcd expression \n",
      "\t land_class_area(m01s03i317[lbproc=128], m01s03i395[lbproc=128], land_class='broadLeafTreeDeciduous') \n",
      "\t land_class_area(m01s19i013[lbtim_ia=240,lbproc=128], m01s03i395[lbproc=128], land_class='broadLeafTreeDeciduous')\n",
      "Emon.treeFracNdlEvg expression \n",
      "\t land_class_area(m01s03i317[lbproc=128], m01s03i395[lbproc=128], land_class='needleLeafTreeEvergreen') \n",
      "\t land_class_area(m01s19i013[lbtim_ia=240,lbproc=128], m01s03i395[lbproc=128], land_class='needleLeafTreeEvergreen')\n",
      "Emon.vegFrac expression \n",
      "\t land_class_area(m01s03i317[lbproc=128], m01s03i395[lbproc=128], land_class='natural') \n",
      "\t land_class_area(m01s19i013[lbtim_ia=240,lbproc=128], m01s03i395[lbproc=128], land_class='veg')\n",
      "LImon.acabfIs expression \n",
      "\t land_class_mean(m01s08i578[lbproc=128], m01s03i317[lbproc=128], land_class='ice') \n",
      "\t land_class_mean(m01s08i578[lbproc=128], m01s03i317[lbproc=128], land_class='iceElev')\n",
      "LImon.hflsIs expression \n",
      "\t land_class_mean(m01s03i330[lbproc=128], m01s03i317[lbproc=128], land_class='ice') \n",
      "\t land_class_mean(m01s03i330[lbproc=128], m01s03i317[lbproc=128], land_class='iceElev')\n",
      "LImon.hfssIs expression \n",
      "\t land_class_mean(m01s03i290[lbproc=128], m01s03i317[lbproc=128], land_class='ice') \n",
      "\t land_class_mean(m01s03i290[lbproc=128], m01s03i317[lbproc=128], land_class='iceElev')\n",
      "LImon.litemptopIs expression \n",
      "\t land_class_mean(m01s08i225[lbproc=128], m01s03i317[lbproc=128], land_class='ice') \n",
      "\t land_class_mean(m01s08i576[lbproc=128], m01s03i317[lbproc=128], land_class='iceElev')\n",
      "LImon.mrroIs expression \n",
      "\t land_class_mean(m01s08i583[lbproc=128], m01s03i317[lbproc=128], land_class='ice') \n",
      "\t land_class_mean(m01s08i583[lbproc=128], m01s03i317[lbproc=128], land_class='iceElev')\n",
      "LImon.rldsIs expression \n",
      "\t land_class_mean(m01s03i384[lbproc=128], m01s03i317[lbproc=128], land_class='ice') \n",
      "\t land_class_mean(m01s03i384[lbproc=128], m01s03i317[lbproc=128], land_class='iceElev')\n",
      "LImon.rlusIs expression \n",
      "\t land_class_mean(m01s03i383[lbproc=128], m01s03i317[lbproc=128], land_class='ice') \n",
      "\t land_class_mean(m01s03i383[lbproc=128], m01s03i317[lbproc=128], land_class='iceElev')\n",
      "LImon.sblIs expression \n",
      "\t land_class_mean(m01s03i331[lbproc=128], m01s03i317[lbproc=128], land_class='ice') \n",
      "\t land_class_mean(m01s03i331[lbproc=128], m01s03i317[lbproc=128], land_class='iceElev')\n",
      "LImon.sftgif expression \n",
      "\t land_class_area(m01s03i317[lbproc=128], m01s03i395[lbproc=128], land_class='ice') \n",
      "\t land_class_area(m01s03i317[lbproc=128], m01s03i395[lbproc=128], land_class='iceElev')\n",
      "LImon.snicefreezIs expression \n",
      "\t land_class_mean(m01s08i580[lbproc=128], m01s03i317[lbproc=128], land_class='ice') \n",
      "\t land_class_mean(m01s08i580[lbproc=128], m01s03i317[lbproc=128], land_class='iceElev')\n",
      "LImon.snicemIs expression \n",
      "\t land_class_mean(m01s08i579[lbproc=128], m01s03i317[lbproc=128], land_class='ice') \n",
      "\t land_class_mean(m01s08i579[lbproc=128], m01s03i317[lbproc=128], land_class='iceElev')\n",
      "LImon.snmIs expression \n",
      "\t land_class_mean(m01s08i579[lbproc=128], m01s03i317[lbproc=128], land_class='ice') \n",
      "\t land_class_mean(m01s08i579[lbproc=128], m01s03i317[lbproc=128], land_class='iceElev')\n",
      "LImon.tasIs expression \n",
      "\t land_class_mean(m01s03i328[lbproc=128], m01s03i317[lbproc=128], land_class='ice') \n",
      "\t land_class_mean(m01s03i328[lbproc=128], m01s03i317[lbproc=128], land_class='iceElev')\n",
      "LImon.tsIs expression \n",
      "\t land_class_mean(m01s03i316[lbproc=128], m01s03i317[lbproc=128], land_class='ice') \n",
      "\t land_class_mean(m01s03i316[lbproc=128], m01s03i317[lbproc=128], land_class='iceElev')\n",
      "Lmon.baresoilFrac expression \n",
      "\t land_class_area(m01s03i317[lbproc=128], m01s03i395[lbproc=128], land_class='bareSoil') \n",
      "\t land_class_area(m01s19i013[lbtim_ia=240,lbproc=128], m01s03i395[lbproc=128], land_class='bareSoil')\n",
      "Lmon.c3PftFrac expression \n",
      "\t land_class_area(m01s03i317[lbproc=128], m01s03i395[lbproc=128], land_class='c3') \n",
      "\t land_class_area(m01s19i013[lbtim_ia=240,lbproc=128], m01s03i395[lbproc=128], land_class='c3')\n",
      "Lmon.c4PftFrac expression \n",
      "\t land_class_area(m01s03i317[lbproc=128], m01s03i395[lbproc=128], land_class='c4') \n",
      "\t land_class_area(m01s19i013[lbtim_ia=240,lbproc=128], m01s03i395[lbproc=128], land_class='c4')\n",
      "Lmon.grassFrac expression \n",
      "\t land_class_area(m01s03i317[lbproc=128], m01s03i395[lbproc=128], land_class='grass') \n",
      "\t land_class_area(m01s19i013[lbtim_ia=240,lbproc=128],m01s03i395[lbproc=128], land_class='grass')\n",
      "Lmon.lai expression \n",
      "\t land_class_mean(m01s03i318[lbproc=128], m01s03i317[lbproc=128], land_class='natural') \n",
      "\t land_class_mean(m01s19i014[lbtim_ia=240,lbproc=128], m01s19i013[lbtim_ia=240,lbproc=128], land_class='veg')\n",
      "Lmon.residualFrac expression \n",
      "\t land_class_area(m01s03i317[lbproc=128], m01s03i395[lbproc=128], land_class='residual') \n",
      "\t land_class_area(m01s19i013[lbtim_ia=240,lbproc=128], m01s03i395[lbproc=128], land_class='residual')\n",
      "Lmon.shrubFrac expression \n",
      "\t land_class_area(m01s03i317[lbproc=128], m01s03i395[lbproc=128], land_class='shrub') \n",
      "\t land_class_area(m01s19i013[lbtim_ia=240,lbproc=128], m01s03i395[lbproc=128], land_class='shrub')\n",
      "Lmon.treeFrac expression \n",
      "\t land_class_area(m01s03i317[lbproc=128], m01s03i395[lbproc=128], land_class='tree') \n",
      "\t land_class_area(m01s19i013[lbtim_ia=240,lbproc=128], m01s03i395[lbproc=128], land_class='tree')\n"
     ]
    }
   ],
   "source": [
    "ignore = ['notes']\n",
    "\n",
    "for key, entry in data_request_info['Compound Name'].items():\n",
    "    try:\n",
    "        if all([i in entry['mappings'] for i in ['HadGEM3-GC31', 'UKESM1']]):\n",
    "            if entry['mappings']['HadGEM3-GC31'] != entry['mappings']['UKESM1']:\n",
    "                uk =  entry['mappings']['UKESM1']\n",
    "                for j,v  in entry['mappings']['HadGEM3-GC31'].items():\n",
    "                    if v != uk[j] and j not in ignore:\n",
    "                        print(key, j, \"\\n\\t\", v, \"\\n\\t\",uk[j])\n",
    "                \n",
    "    except KeyError:\n",
    "        pass\n"
   ]
  },
  {
   "cell_type": "code",
   "execution_count": 15,
   "id": "6a854e19-d573-4b28-9d3d-c7613ea9e179",
   "metadata": {},
   "outputs": [
    {
     "data": {
      "text/plain": [
       "['3hr.tas',\n",
       " 'AERhr.tas',\n",
       " 'APday.tasmax',\n",
       " 'APday.tasmin',\n",
       " 'CFsubhr.tas',\n",
       " 'GCAmon6hr.tas',\n",
       " 'LImon.tasIs',\n",
       " 'day.tasmax',\n",
       " 'day.tasmin',\n",
       " '6hrPlev.tas',\n",
       " 'Amon.tas',\n",
       " 'day.tas',\n",
       " 'CresAERday.tas',\n",
       " 'Cres1HrMn.tas',\n",
       " 'AP6hr.tas',\n",
       " 'APday.tas',\n",
       " 'APmon.tas',\n",
       " 'mon.tas',\n",
       " '1hr.tas',\n",
       " 'Amon.tasmax',\n",
       " 'Amon.tasmin']"
      ]
     },
     "execution_count": 15,
     "metadata": {},
     "output_type": "execute_result"
    }
   ],
   "source": [
    "[i for i in HadGEM3_mappings if 'tas' in i]\n"
   ]
  },
  {
   "cell_type": "code",
   "execution_count": null,
   "id": "afc83d46-1181-4e95-8388-92851b943583",
   "metadata": {},
   "outputs": [],
   "source": []
  }
 ],
 "metadata": {
  "kernelspec": {
   "display_name": "default-2025_04_01 Python (Conda)",
   "language": "python",
   "name": "conda-env-default-2025_04_01-py"
  },
  "language_info": {
   "codemirror_mode": {
    "name": "ipython",
    "version": 3
   },
   "file_extension": ".py",
   "mimetype": "text/x-python",
   "name": "python",
   "nbconvert_exporter": "python",
   "pygments_lexer": "ipython3",
   "version": "3.12.8"
  }
 },
 "nbformat": 4,
 "nbformat_minor": 5
}
